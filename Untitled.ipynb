{
 "cells": [
  {
   "cell_type": "code",
   "execution_count": 1,
   "id": "7ff92b8a-9549-4280-92d8-b6f4804239e6",
   "metadata": {},
   "outputs": [
    {
     "name": "stdout",
     "output_type": "stream",
     "text": [
      "Hello World in Codespaces\n"
     ]
    }
   ],
   "source": [
    "print(\"Hello World in Codespaces\")\n",
    "print(\"Hello from mac\")"
   ]
  },
  {
   "cell_type": "code",
   "execution_count": null,
   "id": "f9a9ef29",
   "metadata": {},
   "outputs": [],
   "source": [
    "docker run -it \\\n",
    "-e POSTGRES_USER=\"root\" \\\n",
    "-e POSTGRES_PASSWORD=\"root\" \\\n",
    "-e POSTGRES_DB=\"ny_taxi\" \\\n",
    "-v /workspaces/Zoomcamp2024/ny_taxi_postgres_data:/var/lib/postgresql/data \\\n",
    "-p 5432:5432 \\ \n",
    "postgres:13\n"
   ]
  },
  {
   "cell_type": "code",
   "execution_count": null,
   "id": "d41fa914",
   "metadata": {},
   "outputs": [],
   "source": [
    "docker run -it -e POSTGRES_USER=\"root\" -e POSTGRES_PASSWORD=\"root\" -e POSTGRES_DB=\"ny_taxi\" -v $(pwd)/ny_taxi_postgres_data:/var/lib/postgresql/data -p 5432:5432 postgres:13"
   ]
  }
 ],
 "metadata": {
  "kernelspec": {
   "display_name": "Python 3 (ipykernel)",
   "language": "python",
   "name": "python3"
  },
  "language_info": {
   "codemirror_mode": {
    "name": "ipython",
    "version": 3
   },
   "file_extension": ".py",
   "mimetype": "text/x-python",
   "name": "python",
   "nbconvert_exporter": "python",
   "pygments_lexer": "ipython3",
   "version": "3.10.13"
  }
 },
 "nbformat": 4,
 "nbformat_minor": 5
}
